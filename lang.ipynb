{
  "nbformat": 4,
  "nbformat_minor": 0,
  "metadata": {
    "colab": {
      "provenance": [],
      "authorship_tag": "ABX9TyPm9qq0HV4HDT7tERzRHR2O",
      "include_colab_link": true
    },
    "kernelspec": {
      "name": "python3",
      "display_name": "Python 3"
    },
    "language_info": {
      "name": "python"
    }
  },
  "cells": [
    {
      "cell_type": "markdown",
      "metadata": {
        "id": "view-in-github",
        "colab_type": "text"
      },
      "source": [
        "<a href=\"https://colab.research.google.com/github/RuanF7/-Construindo-Meu-Primeiro-Projeto-L-gico-de-Banco-de-Dados/blob/main/lang.ipynb\" target=\"_parent\"><img src=\"https://colab.research.google.com/assets/colab-badge.svg\" alt=\"Open In Colab\"/></a>"
      ]
    },
    {
      "cell_type": "code",
      "execution_count": null,
      "metadata": {
        "id": "niyEn1dH1ZZV"
      },
      "outputs": [],
      "source": []
    },
    {
      "cell_type": "markdown",
      "source": [
        "Identificação de idioma predominante em textos.\n",
        "\n",
        "Passo 1: Instalação das bibliotecas.\n"
      ],
      "metadata": {
        "id": "EiEec8c21cZz"
      }
    },
    {
      "cell_type": "code",
      "source": [
        "!pip install langdetect\n"
      ],
      "metadata": {
        "colab": {
          "base_uri": "https://localhost:8080/"
        },
        "id": "iCQE5knh1eeT",
        "outputId": "136d6b21-7686-45b3-dc22-4ec17d844f09"
      },
      "execution_count": 1,
      "outputs": [
        {
          "output_type": "stream",
          "name": "stdout",
          "text": [
            "Collecting langdetect\n",
            "  Downloading langdetect-1.0.9.tar.gz (981 kB)\n",
            "\u001b[?25l     \u001b[90m━━━━━━━━━━━━━━━━━━━━━━━━━━━━━━━━━━━━━━━━\u001b[0m \u001b[32m0.0/981.5 kB\u001b[0m \u001b[31m?\u001b[0m eta \u001b[36m-:--:--\u001b[0m\r\u001b[2K     \u001b[91m━━━━━━━━━━━━━━━━━━━━━━\u001b[0m\u001b[91m╸\u001b[0m\u001b[90m━━━━━━━━━━━━━━━━━\u001b[0m \u001b[32m563.2/981.5 kB\u001b[0m \u001b[31m16.9 MB/s\u001b[0m eta \u001b[36m0:00:01\u001b[0m\r\u001b[2K     \u001b[90m━━━━━━━━━━━━━━━━━━━━━━━━━━━━━━━━━━━━━━━━\u001b[0m \u001b[32m981.5/981.5 kB\u001b[0m \u001b[31m12.9 MB/s\u001b[0m eta \u001b[36m0:00:00\u001b[0m\n",
            "\u001b[?25h  Preparing metadata (setup.py) ... \u001b[?25l\u001b[?25hdone\n",
            "Requirement already satisfied: six in /usr/local/lib/python3.10/dist-packages (from langdetect) (1.16.0)\n",
            "Building wheels for collected packages: langdetect\n",
            "  Building wheel for langdetect (setup.py) ... \u001b[?25l\u001b[?25hdone\n",
            "  Created wheel for langdetect: filename=langdetect-1.0.9-py3-none-any.whl size=993221 sha256=29d8fde7d285ec263b78b8acb7f9aea244a7f1ac9fd661e982f0503d96b75357\n",
            "  Stored in directory: /root/.cache/pip/wheels/95/03/7d/59ea870c70ce4e5a370638b5462a7711ab78fba2f655d05106\n",
            "Successfully built langdetect\n",
            "Installing collected packages: langdetect\n",
            "Successfully installed langdetect-1.0.9\n"
          ]
        }
      ]
    },
    {
      "cell_type": "markdown",
      "source": [
        "Passo 2: Definindo as frases, em diferentes idiomas, que serão analisadas.\n"
      ],
      "metadata": {
        "id": "T1TRx3qf1r8N"
      }
    },
    {
      "cell_type": "code",
      "source": [
        "text = [\n",
        "    \"Wear masks, keep distance, wash hands, be safe in these difficult days.\",\n",
        "    \"Viseljen maszkot, tartson távolságot, mosson kezet, legyen biztonságban ezekben a nehéz napokban\",\n",
        "    \"Deaths are increasing, be vigilent.\",\n",
        "    \"Носите маски, соблюдайте дистанцию, мойте руки, будьте осторожны в эти тяжелые дни.\",\n",
        "    \"Covid-19: Indians flock to vaccination centers as vaccines are now available for 60+ in India since the 1st of March\",\n",
        "    \"Indossa maschere, mantieni le distanze, lavati le mani, sii al sicuro in questi giorni difficili.\",\n",
        "    \"Portez des masques, gardez vos distances, lavez-vous les mains, soyez en sécurité en ces jours difficiles.\",\n",
        "    \"Brug masker, hold afstand, vask hænder, vær sikker i disse vanskelige dage.\",\n",
        "    \"We are facing a global education crisis. No effort should be spared to safely bring every child back into the classroom.\",\n",
        "    \"Bruk masker, hold avstand, vask hendene, vær trygg i disse vanskelige dagene.\",\n",
        "    \"Portu maskojn, tenu distancon, lavu manojn, estu sekuraj en ĉi tiuj malfacilaj tagoj.\",\n",
        "    \"Tragen Sie Masken, halten Sie Abstand, waschen Sie Ihre Hände, seien Sie in diesen schwierigen Tagen sicher.\",\n",
        "    \"Носіть маски, тримайтеся на відстані, мийте руки, будьте в безпеці в ці важкі дні.\",\n",
        "    \"Lock down, working from home are the keys words for these days.\",\n",
        "    \"Lives have changed drastically across the planet and this period will forever be remembered as the beginning of something we have yet to witness.\",\n",
        "    \"Este é um exemplo de texto escrito em português.\"\n",
        "]\n"
      ],
      "metadata": {
        "id": "yTqYCCde1u2a"
      },
      "execution_count": 2,
      "outputs": []
    },
    {
      "cell_type": "markdown",
      "source": [
        "Passo 3: Recarragendo o ambiente python após a instalação da lib.\n"
      ],
      "metadata": {
        "id": "xPJ31ztV1yqm"
      }
    },
    {
      "cell_type": "code",
      "source": [
        "import pkg_resources, imp\n",
        "imp.reload(pkg_resources)\n"
      ],
      "metadata": {
        "colab": {
          "base_uri": "https://localhost:8080/"
        },
        "id": "mYbDs4c71zJ2",
        "outputId": "99891fec-1ff9-4525-e3a9-7a9c426ea6e5"
      },
      "execution_count": 3,
      "outputs": [
        {
          "output_type": "execute_result",
          "data": {
            "text/plain": [
              "<module 'pkg_resources' from '/usr/local/lib/python3.10/dist-packages/pkg_resources/__init__.py'>"
            ]
          },
          "metadata": {},
          "execution_count": 3
        }
      ]
    },
    {
      "cell_type": "markdown",
      "source": [
        "Passo 4: Detectando a linguagem predominante na lista de frases.\n"
      ],
      "metadata": {
        "id": "-0iiVzuP12Rf"
      }
    },
    {
      "cell_type": "code",
      "source": [
        "from langdetect import detect\n",
        "\n",
        "for x in text:\n",
        "    print('Frase:', x)\n",
        "    print('Idioma:', detect(x), '\\n\\n')\n"
      ],
      "metadata": {
        "colab": {
          "base_uri": "https://localhost:8080/"
        },
        "id": "xGJD0zgU13eP",
        "outputId": "4fe12d11-c1a9-4e17-b1ef-82466e567ea8"
      },
      "execution_count": 4,
      "outputs": [
        {
          "output_type": "stream",
          "name": "stdout",
          "text": [
            "Frase: Wear masks, keep distance, wash hands, be safe in these difficult days.\n",
            "Idioma: en \n",
            "\n",
            "\n",
            "Frase: Viseljen maszkot, tartson távolságot, mosson kezet, legyen biztonságban ezekben a nehéz napokban\n",
            "Idioma: hu \n",
            "\n",
            "\n",
            "Frase: Deaths are increasing, be vigilent.\n",
            "Idioma: en \n",
            "\n",
            "\n",
            "Frase: Носите маски, соблюдайте дистанцию, мойте руки, будьте осторожны в эти тяжелые дни.\n",
            "Idioma: ru \n",
            "\n",
            "\n",
            "Frase: Covid-19: Indians flock to vaccination centers as vaccines are now available for 60+ in India since the 1st of March\n",
            "Idioma: en \n",
            "\n",
            "\n",
            "Frase: Indossa maschere, mantieni le distanze, lavati le mani, sii al sicuro in questi giorni difficili.\n",
            "Idioma: it \n",
            "\n",
            "\n",
            "Frase: Portez des masques, gardez vos distances, lavez-vous les mains, soyez en sécurité en ces jours difficiles.\n",
            "Idioma: fr \n",
            "\n",
            "\n",
            "Frase: Brug masker, hold afstand, vask hænder, vær sikker i disse vanskelige dage.\n",
            "Idioma: da \n",
            "\n",
            "\n",
            "Frase: We are facing a global education crisis. No effort should be spared to safely bring every child back into the classroom.\n",
            "Idioma: en \n",
            "\n",
            "\n",
            "Frase: Bruk masker, hold avstand, vask hendene, vær trygg i disse vanskelige dagene.\n",
            "Idioma: da \n",
            "\n",
            "\n",
            "Frase: Portu maskojn, tenu distancon, lavu manojn, estu sekuraj en ĉi tiuj malfacilaj tagoj.\n",
            "Idioma: hr \n",
            "\n",
            "\n",
            "Frase: Tragen Sie Masken, halten Sie Abstand, waschen Sie Ihre Hände, seien Sie in diesen schwierigen Tagen sicher.\n",
            "Idioma: de \n",
            "\n",
            "\n",
            "Frase: Носіть маски, тримайтеся на відстані, мийте руки, будьте в безпеці в ці важкі дні.\n",
            "Idioma: uk \n",
            "\n",
            "\n",
            "Frase: Lock down, working from home are the keys words for these days.\n",
            "Idioma: en \n",
            "\n",
            "\n",
            "Frase: Lives have changed drastically across the planet and this period will forever be remembered as the beginning of something we have yet to witness.\n",
            "Idioma: en \n",
            "\n",
            "\n",
            "Frase: Este é um exemplo de texto escrito em português.\n",
            "Idioma: pt \n",
            "\n",
            "\n"
          ]
        }
      ]
    }
  ]
}